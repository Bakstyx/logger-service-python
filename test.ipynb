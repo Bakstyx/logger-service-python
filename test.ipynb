{
 "cells": [
  {
   "cell_type": "code",
   "execution_count": 1,
   "id": "709b0c62",
   "metadata": {},
   "outputs": [
    {
     "data": {
      "text/plain": [
       "True"
      ]
     },
     "execution_count": 1,
     "metadata": {},
     "output_type": "execute_result"
    }
   ],
   "source": [
    "#from src.logger_system.logging_manager import LoggerManager\n",
    "import os\n",
    "from dotenv import load_dotenv\n",
    "from src.logger_system.loggers import Logger, LokiLoggerService\n",
    "\n",
    "load_dotenv(\".env\")"
   ]
  },
  {
   "cell_type": "code",
   "execution_count": 2,
   "id": "fdc65856",
   "metadata": {},
   "outputs": [],
   "source": [
    "logging = Logger(log_file=r\"./logs/logger_test.log\",name=\"TestLogger\")"
   ]
  },
  {
   "cell_type": "code",
   "execution_count": 3,
   "id": "85dbb1e4",
   "metadata": {},
   "outputs": [
    {
     "name": "stderr",
     "output_type": "stream",
     "text": [
      "2025-08-30 17:12:20,398 - TestLogger - DEBUG - Debug: This is a debug message -> __main__ - <module> - 1\n",
      "2025-08-30 17:12:20,399 - TestLogger - INFO - Info: This is an info message -> __main__ - <module> - 2\n",
      "2025-08-30 17:12:20,399 - TestLogger - WARNING - Warning: This is a warning message -> __main__ - <module> - 3\n",
      "2025-08-30 17:12:20,399 - TestLogger - ERROR - Error: This is an error message -> __main__ - <module> - 4\n",
      "NoneType: None\n",
      "2025-08-30 17:12:20,400 - TestLogger - CRITICAL - Critical: This is a critical message -> __main__ - <module> - 5\n",
      "NoneType: None\n",
      "2025-08-30 17:12:20,400 - TestLogger - ERROR - Error: An exception occurred - division by zero -> __main__ - <module> - 9\n",
      "Traceback (most recent call last):\n",
      "  File \"C:\\Users\\baks_\\AppData\\Local\\Temp\\ipykernel_14504\\3282552196.py\", line 7, in <module>\n",
      "    1 / 0\n",
      "    ~~^~~\n",
      "ZeroDivisionError: division by zero\n"
     ]
    }
   ],
   "source": [
    "logging.debug(\"This is a debug message\")\n",
    "logging.info(\"This is an info message\")\n",
    "logging.warning(\"This is a warning message\")\n",
    "logging.error(\"This is an error message\")\n",
    "logging.critical(\"This is a critical message\")\n",
    "try:\n",
    "    1 / 0\n",
    "except ZeroDivisionError as e:\n",
    "    logging.error(f\"An exception occurred - {str(e)}\")"
   ]
  },
  {
   "cell_type": "code",
   "execution_count": null,
   "id": "0f169de0",
   "metadata": {},
   "outputs": [
    {
     "name": "stderr",
     "output_type": "stream",
     "text": [
      "2025-08-30 15:10:49,872 - TestLogger - ERROR - Error: An exception occurred - division by zero -> __main__ - <module> - 4\n",
      "Traceback (most recent call last):\n",
      "  File \"C:\\Users\\baks_\\AppData\\Local\\Temp\\ipykernel_7768\\2896680755.py\", line 2, in <module>\n",
      "    1 / 0\n",
      "    ~~^~~\n",
      "ZeroDivisionError: division by zero\n"
     ]
    }
   ],
   "source": []
  },
  {
   "cell_type": "code",
   "execution_count": 4,
   "id": "08dc091b",
   "metadata": {},
   "outputs": [],
   "source": [
    "\n",
    "loki_config = {\n",
    "    \"loki_url\": f\"https://{os.getenv('loki_instance')}:{os.getenv('loki_token')}@{os.getenv('loki_url')}/loki/api/v1/push\",\n",
    "    \"labels\": {\"application\": \"Test\", \"environment\": \"Develop\"},\n",
    "    \"label_keys\": {},\n",
    "    \"loki_metadata\": {\"source\": \"python_logger_service\"},\n",
    "}\n",
    "\n",
    "loki_logger = LokiLoggerService(loki_config=loki_config, name=\"LokiTestLogger\")\n"
   ]
  },
  {
   "cell_type": "code",
   "execution_count": 5,
   "id": "d6eb738a",
   "metadata": {},
   "outputs": [
    {
     "name": "stderr",
     "output_type": "stream",
     "text": [
      "2025-08-30 17:12:48,642 - LokiTestLogger - INFO - Info: This is an info message -> __main__ - <module> - 2\n",
      "2025-08-30 17:12:48,643 - LokiTestLogger - WARNING - Warning: This is a warning message -> __main__ - <module> - 3\n",
      "2025-08-30 17:12:48,643 - LokiTestLogger - INFO - Info: This is an info message for Verito -> __main__ - <module> - 4\n",
      "2025-08-30 17:12:48,644 - LokiTestLogger - ERROR - Error: An exception occurred - division by zero -> __main__ - <module> - 8\n",
      "Traceback (most recent call last):\n",
      "  File \"C:\\Users\\baks_\\AppData\\Local\\Temp\\ipykernel_14504\\3723706807.py\", line 6, in <module>\n",
      "    1 / 0\n",
      "    ~~^~~\n",
      "ZeroDivisionError: division by zero\n",
      "2025-08-30 17:12:48,644 - LokiTestLogger - CRITICAL - Critical: This is a critical message -> __main__ - <module> - 9\n",
      "NoneType: None\n"
     ]
    }
   ],
   "source": [
    "loki_logger.debug(\"This is a debug message\")\n",
    "loki_logger.info(\"This is an info message\")\n",
    "loki_logger.warning(\"This is a warning message\")\n",
    "loki_logger.info(\"This is an info message for Verito\")\n",
    "try:\n",
    "    1 / 0\n",
    "except ZeroDivisionError as e:\n",
    "    loki_logger.error(f\"An exception occurred - {str(e)}\")\n",
    "loki_logger.critical(\"This is a critical message\")"
   ]
  },
  {
   "cell_type": "code",
   "execution_count": null,
   "id": "ebe16df7",
   "metadata": {},
   "outputs": [
    {
     "name": "stderr",
     "output_type": "stream",
     "text": [
      "2025-08-30 17:02:44,959 - LokiTestLogger - INFO - Info: This is an info message for Verito -> __main__ - <module> - 2\n",
      "2025-08-30 17:02:44,960 - LokiTestLogger - ERROR - Error: An exception occurred - division by zero -> __main__ - <module> - 6\n",
      "Traceback (most recent call last):\n",
      "  File \"C:\\Users\\baks_\\AppData\\Local\\Temp\\ipykernel_792\\454517528.py\", line 4, in <module>\n",
      "    1 / 0\n",
      "    ~~^~~\n",
      "ZeroDivisionError: division by zero\n",
      "2025-08-30 17:02:44,961 - LokiTestLogger - CRITICAL - Critical: This is a critical message -> __main__ - <module> - 7\n",
      "NoneType: None\n"
     ]
    }
   ],
   "source": []
  },
  {
   "cell_type": "code",
   "execution_count": null,
   "id": "bd509cdf",
   "metadata": {},
   "outputs": [],
   "source": []
  },
  {
   "cell_type": "code",
   "execution_count": 5,
   "id": "bcba18c8",
   "metadata": {},
   "outputs": [],
   "source": [
    "logging._close_logger()"
   ]
  },
  {
   "cell_type": "code",
   "execution_count": 5,
   "id": "7defeaa9",
   "metadata": {},
   "outputs": [],
   "source": [
    "loki_logger._close_logger()"
   ]
  },
  {
   "cell_type": "code",
   "execution_count": null,
   "id": "a96a4b9b",
   "metadata": {},
   "outputs": [],
   "source": []
  }
 ],
 "metadata": {
  "kernelspec": {
   "display_name": ".venv",
   "language": "python",
   "name": "python3"
  },
  "language_info": {
   "codemirror_mode": {
    "name": "ipython",
    "version": 3
   },
   "file_extension": ".py",
   "mimetype": "text/x-python",
   "name": "python",
   "nbconvert_exporter": "python",
   "pygments_lexer": "ipython3",
   "version": "3.13.7"
  }
 },
 "nbformat": 4,
 "nbformat_minor": 5
}
