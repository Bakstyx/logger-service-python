{
 "cells": [
  {
   "cell_type": "code",
   "execution_count": 2,
   "id": "709b0c62",
   "metadata": {},
   "outputs": [],
   "source": [
    "from src.logger_system.logging_manager import LoggerManager\n",
    "from src.logger_system.loggers import Logger"
   ]
  },
  {
   "cell_type": "code",
   "execution_count": 3,
   "id": "fdc65856",
   "metadata": {},
   "outputs": [],
   "source": [
    "logging = LoggerManager.get_logger(log_file=r\"./logs/logger_test.log\",name=\"TestLogger\")"
   ]
  },
  {
   "cell_type": "code",
   "execution_count": 4,
   "id": "85dbb1e4",
   "metadata": {},
   "outputs": [
    {
     "name": "stderr",
     "output_type": "stream",
     "text": [
      "2025-08-30 13:52:52,824 - TestLogger - DEBUG - Debug: This is a debug message -> __main__ - <module> - 1\n",
      "2025-08-30 13:52:52,825 - TestLogger - INFO - Info: This is an info message -> __main__ - <module> - 2\n",
      "2025-08-30 13:52:52,825 - TestLogger - WARNING - Warning: This is a warning message -> __main__ - <module> - 3\n",
      "2025-08-30 13:52:52,826 - TestLogger - ERROR - Error: This is an error message -> __main__ - <module> - 4\n",
      "NoneType: None\n",
      "2025-08-30 13:52:52,826 - TestLogger - CRITICAL - Critical: This is a critical message -> __main__ - <module> - 5\n",
      "NoneType: None\n"
     ]
    }
   ],
   "source": [
    "logging.debug(\"This is a debug message\")\n",
    "logging.info(\"This is an info message\")\n",
    "logging.warning(\"This is a warning message\")\n",
    "logging.error(\"This is an error message\")\n",
    "logging.critical(\"This is a critical message\")"
   ]
  },
  {
   "cell_type": "code",
   "execution_count": null,
   "id": "76c3534b",
   "metadata": {},
   "outputs": [],
   "source": []
  }
 ],
 "metadata": {
  "kernelspec": {
   "display_name": ".venv",
   "language": "python",
   "name": "python3"
  },
  "language_info": {
   "codemirror_mode": {
    "name": "ipython",
    "version": 3
   },
   "file_extension": ".py",
   "mimetype": "text/x-python",
   "name": "python",
   "nbconvert_exporter": "python",
   "pygments_lexer": "ipython3",
   "version": "3.13.7"
  }
 },
 "nbformat": 4,
 "nbformat_minor": 5
}
